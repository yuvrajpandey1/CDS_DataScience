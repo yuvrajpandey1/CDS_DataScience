{
 "cells": [
  {
   "cell_type": "markdown",
   "metadata": {},
   "source": [
    "### Statistics\n",
    "\n",
    "--> Data Science Project (60-80%) spend time in analzing and preparing data\n",
    "--> 20-40% development and deployment\n",
    "\n",
    "\n",
    "### Data Science Project LifeCycle\n",
    "\n",
    "--> Understand Buisness Statement/Problem (Pandas,Numpy,Visulisation)\n",
    "--> Statical Concept (Scipy)\n",
    "--> Code or finding solutions for the problem (ML Algorithms)\n",
    "\n",
    "\n",
    "* Any problem in development/deployement statistics play    a major role(Performance of Model)\n",
    "* Debuging and finding error"
   ]
  },
  {
   "cell_type": "markdown",
   "metadata": {},
   "source": [
    "* Overview of Statistics\n",
    "* Harnessing Data(Colllection of Data)\n",
    "* Exploratory Data Analysis(EDA)\n",
    "* Hypothesis testing\n",
    "* Correlation and Regression"
   ]
  },
  {
   "cell_type": "markdown",
   "metadata": {},
   "source": [
    "### Overview of Statistics\n",
    "* 2 Types of Statistics are their 1. Descriptive 2. Inferential\n",
    "* Cocheran's formula generally used to find Sample Size\n",
    "* Types of Data"
   ]
  },
  {
   "cell_type": "markdown",
   "metadata": {},
   "source": [
    "* Statistics ;- Collet the data , describe the data interprete the data\n",
    "* Descriptive statistics ;- summarizing data (mean,average), describe abount entire population\n",
    "* Inferential statistics ;- part of entire population (determine something based on sample)"
   ]
  },
  {
   "cell_type": "markdown",
   "metadata": {},
   "source": [
    "### Application of Statistical Concept\n",
    "1. Finance(Stock Market) - Correlation and regression,index number ,time series analysis\n",
    "2. Marketing - hypothesis testing,chi-square test,nonparametrics statistics\n",
    "3. Academic Research - \n",
    "4. Operating Management -estimation,analysis of variance,time series analysis\n",
    "5. Retailing - Sales Data,Distribution analysis,Instore Promotion,Product assortment, ew product development"
   ]
  },
  {
   "cell_type": "markdown",
   "metadata": {},
   "source": [
    "### Financial Management and Investment highly depends on statistics , statistics plays a major role"
   ]
  },
  {
   "cell_type": "markdown",
   "metadata": {},
   "source": [
    "* Descriptive value of population is called Parameter\n",
    "* Descriptive balue of sample is called Statistics"
   ]
  },
  {
   "cell_type": "markdown",
   "metadata": {
    "collapsed": true
   },
   "source": [
    "### Types of Data"
   ]
  },
  {
   "cell_type": "markdown",
   "metadata": {},
   "source": [
    "* Qualitative --> means Categorical data --> Ordinal(order and hirarchy) & Nominal\n",
    "* Quantitative --> means Numberical data --> Continuous(changing order infinte option) & Discrete(finite option its fixed number)\n"
   ]
  },
  {
   "cell_type": "markdown",
   "metadata": {},
   "source": [
    "## Harnessing Data (Collection of Data)"
   ]
  },
  {
   "cell_type": "markdown",
   "metadata": {},
   "source": [
    "* Main methods is sampling data\n",
    "* with replacement (more than once)\n",
    "* with-out replacement (Lottery only once)\n",
    "* Sampling methods should be random and non-random\n",
    "* Random Sampling Methods --> simple random sample,stratified sample,cluster sample,systematic sample"
   ]
  },
  {
   "cell_type": "markdown",
   "metadata": {},
   "source": [
    "* Biased sampling Methods --> Systematically differs from the sampled population\n",
    "* Unbiased sampling Methods --> one that is not biased  1. Convenience sample  2. Volunteer sample\n"
   ]
  },
  {
   "cell_type": "markdown",
   "metadata": {},
   "source": [
    "#### Process of data collection\n",
    "\n",
    "1. Define the objectives of the survey or experiment\n",
    "2. Define the variable and population of intrest\n",
    "3. Define the data-collection and data-measuring schemes.this includes sampling procedures,sample size and the data-measuring device\n",
    "4. Determine the appropiate descriptive or\n",
    "infrential data-analysis tecgniques"
   ]
  },
  {
   "cell_type": "markdown",
   "metadata": {},
   "source": [
    "** The deference between actual value and samle value is called sampling error"
   ]
  },
  {
   "cell_type": "markdown",
   "metadata": {},
   "source": [
    "#### Methods used to collect Data\n",
    "\n",
    "1.Experiment\n",
    "2.Survey\n",
    "3.Census\n",
    "4.Judgement Samples\n",
    "5.Probability Samples\n"
   ]
  },
  {
   "cell_type": "markdown",
   "metadata": {
    "collapsed": true
   },
   "source": [
    "#### Central Tendency \n",
    "* Mean --> Average\n",
    "* Median --> Middle Value\n",
    "* Mode --> Most Occurenance "
   ]
  },
  {
   "cell_type": "markdown",
   "metadata": {},
   "source": [
    "#### Data Variability\n",
    "* Range\n",
    "* SD (Simple derivation)\n",
    "* Var (Variance)\n",
    "* Z-Score\n",
    "* Outlier"
   ]
  },
  {
   "cell_type": "markdown",
   "metadata": {},
   "source": [
    " #### What is Z-score\n",
    "* Z-score is a statistical measure that shows how many standard deviation a data point is from the mean of a set of data\n",
    "* Its offen used to identify outliers in a data set\n",
    "    "
   ]
  },
  {
   "cell_type": "markdown",
   "metadata": {},
   "source": [
    "#### what is Outliers\n",
    "* Outliers are data points that are significantly different from other data point in a set. they can skew statistical analysis and should be identified and handled appropriately"
   ]
  },
  {
   "cell_type": "markdown",
   "metadata": {},
   "source": [
    "#### What is Variance\n",
    "* Variance is a statistical measure that shows how spread out a set of data is. It's calculated by taking the average of the squared differene between each data point and the mean of the set."
   ]
  },
  {
   "cell_type": "markdown",
   "metadata": {},
   "source": [
    "#### What is Standard deviation\n",
    "* Standard deviation is a statistical measures that shows how much variation or dispersion there is from the average or mean of a set of data.Its calculated as the sequence root of variance."
   ]
  },
  {
   "cell_type": "markdown",
   "metadata": {},
   "source": [
    "#### What is percentile\n",
    "* Percentile is a statistical measure that shows the percentage of data points in a set that are below a certain value \n",
    "* For e.g if a data point is at the 80th percentile, it means that 80% of the other data point in the set are below that value"
   ]
  },
  {
   "cell_type": "code",
   "execution_count": null,
   "metadata": {
    "collapsed": true
   },
   "outputs": [],
   "source": []
  }
 ],
 "metadata": {
  "kernelspec": {
   "display_name": "Python 3",
   "language": "python",
   "name": "python3"
  },
  "language_info": {
   "codemirror_mode": {
    "name": "ipython",
    "version": 3
   },
   "file_extension": ".py",
   "mimetype": "text/x-python",
   "name": "python",
   "nbconvert_exporter": "python",
   "pygments_lexer": "ipython3",
   "version": "3.6.1"
  }
 },
 "nbformat": 4,
 "nbformat_minor": 2
}
